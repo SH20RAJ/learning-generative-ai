{
 "cells": [
  {
   "cell_type": "markdown",
   "metadata": {},
   "source": [
    "# OOPS\n",
    "(Object-Oriented Programming System)\n",
    "\n",
    "Object-Oriented Programming (OOP) is a programming paradigm based on the concept of \"objects\", which can contain data and code: data in the form of fields (often known as attributes or properties), and code in the form of procedures (often known as methods).\n"
   ]
  },
  {
   "cell_type": "code",
   "execution_count": null,
   "metadata": {},
   "outputs": [
    {
     "name": "stdout",
     "output_type": "stream",
     "text": [
      "red\n"
     ]
    }
   ],
   "source": [
    "class Car :\n",
    "    def __init__(self, color, mileage) :\n",
    "        self.color = color\n",
    "        self.mileage = mileage\n",
    "\n",
    "\n",
    "\n",
    "my_car = Car('red', 37281)\n",
    "print(my_car.color)"
   ]
  },
  {
   "cell_type": "markdown",
   "metadata": {},
   "source": [
    "# Bank\n",
    "\n",
    "\n",
    "- Deposit\n",
    "- withdraw\n",
    "- getbalance"
   ]
  },
  {
   "cell_type": "code",
   "execution_count": 27,
   "metadata": {},
   "outputs": [
    {
     "name": "stdout",
     "output_type": "stream",
     "text": [
      "2000\n",
      "1800\n",
      "2100\n"
     ]
    }
   ],
   "source": [
    "class Bank :\n",
    "    def __init__(self, name, balance = 0) :\n",
    "        self.name = name\n",
    "        self.balance = int(balance)\n",
    "    \n",
    "    def deposit(self, add):\n",
    "        self.balance+= add\n",
    "\n",
    "    def withdraw(self, withdraw):\n",
    "        self.balance -= (withdraw)\n",
    "\n",
    "    def getBalance(self):\n",
    "        return self.balance\n",
    "\n",
    "\n",
    "\n",
    "user1 = Bank(\"NewUser\", \"2000\")\n",
    "print(user1.balance)\n",
    "\n",
    "user1.withdraw(200)\n",
    "\n",
    "print(user1.getBalance())\n",
    "\n",
    "user1.deposit(300)\n",
    "\n",
    "print(user1.balance)\n",
    "    "
   ]
  },
  {
   "cell_type": "code",
   "execution_count": null,
   "metadata": {},
   "outputs": [],
   "source": []
  }
 ],
 "metadata": {
  "kernelspec": {
   "display_name": "Python 3",
   "language": "python",
   "name": "python3"
  },
  "language_info": {
   "codemirror_mode": {
    "name": "ipython",
    "version": 3
   },
   "file_extension": ".py",
   "mimetype": "text/x-python",
   "name": "python",
   "nbconvert_exporter": "python",
   "pygments_lexer": "ipython3",
   "version": "3.9.6"
  }
 },
 "nbformat": 4,
 "nbformat_minor": 2
}
