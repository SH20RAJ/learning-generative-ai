{
 "cells": [
  {
   "cell_type": "markdown",
   "metadata": {},
   "source": [
    "# Inharitace in python"
   ]
  },
  {
   "cell_type": "code",
   "execution_count": null,
   "metadata": {
    "vscode": {
     "languageId": "markdown"
    }
   },
   "outputs": [],
   "source": [
    "## Inheritance in Python\n",
    "\n",
    "Inheritance is a fundamental concept in object-oriented programming (OOP) that allows a class to inherit attributes and methods from another class. The class that inherits is called the child class or subclass, and the class being inherited from is called the parent class or superclass.\n",
    "\n",
    "### Syntax\n"
   ]
  },
  {
   "cell_type": "code",
   "execution_count": 30,
   "metadata": {},
   "outputs": [
    {
     "name": "stdout",
     "output_type": "stream",
     "text": [
      "cricket\n",
      "1\n",
      "60\n",
      "ROOOOOOOOOOOOOAR\n"
     ]
    }
   ],
   "source": [
    "\n",
    "class Games:\n",
    "    def __init__(self, isGood, haveToRun):\n",
    "        self.isGood = isGood\n",
    "        self.haveToRun = haveToRun\n",
    "\n",
    "    def isPlayable(self, isPlayable) :\n",
    "        self.isPlayable = isPlayable\n",
    "        return isPlayable\n",
    "\n",
    "class Audience:\n",
    "    def __init__(self, audience):\n",
    "        self.audience = audience\n",
    "\n",
    "    def roar(self):\n",
    "        return (\"ROOOOOOOOOOOOOAR\")\n",
    "\n",
    "    \n",
    "\n",
    "\n",
    "\n",
    "class Game(Games, Audience) :\n",
    "\n",
    "    def __init__(self, name, players, isGood, haveToRun):\n",
    "        Games.__init__(self,isGood, haveToRun)\n",
    "        Audience.__init__(self, 60)\n",
    "        self.name = name\n",
    "        self.players = players\n",
    "\n",
    "\n",
    "\n",
    "\n",
    "\n",
    "cricket = Game(\"cricket\", 11, 1,2)\n",
    "\n",
    "print(cricket.name)\n",
    "\n",
    "print(cricket.isPlayable(1))\n",
    "\n",
    "\n",
    "print(cricket.audience)\n",
    "\n",
    "\n",
    "print(cricket.roar())\n",
    "\n",
    "\n",
    "\n",
    "\n",
    "\n",
    "\n",
    "\n"
   ]
  },
  {
   "cell_type": "markdown",
   "metadata": {},
   "source": []
  }
 ],
 "metadata": {
  "kernelspec": {
   "display_name": "Python 3",
   "language": "python",
   "name": "python3"
  },
  "language_info": {
   "codemirror_mode": {
    "name": "ipython",
    "version": 3
   },
   "file_extension": ".py",
   "mimetype": "text/x-python",
   "name": "python",
   "nbconvert_exporter": "python",
   "pygments_lexer": "ipython3",
   "version": "3.9.6"
  }
 },
 "nbformat": 4,
 "nbformat_minor": 2
}
