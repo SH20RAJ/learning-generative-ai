{
 "cells": [
  {
   "cell_type": "markdown",
   "metadata": {},
   "source": [
    "# File Operations\n",
    "\n",
    "\n",
    "This section will cover various file operations such as reading from and writing to files.\n",
    "We will explore different file formats including text files, CSV files, and JSON files.\n",
    "Additionally, we will demonstrate how to handle file exceptions and ensure proper file closure.\n",
    "\n"
   ]
  },
  {
   "cell_type": "code",
   "execution_count": 14,
   "metadata": {},
   "outputs": [
    {
     "name": "stdout",
     "output_type": "stream",
     "text": [
      "Some sample text\n",
      "\n",
      "\n",
      "List \n",
      "- List 1\n",
      "- List 2\n",
      "    \n"
     ]
    }
   ],
   "source": [
    "with open('example.txt') as file:\n",
    "    print((file.read()))\n",
    "\n"
   ]
  },
  {
   "cell_type": "code",
   "execution_count": 6,
   "metadata": {},
   "outputs": [
    {
     "name": "stdout",
     "output_type": "stream",
     "text": [
      "Some sample text\n",
      "\n",
      "\n",
      "List\n",
      "- List 1\n",
      "- List 2\n"
     ]
    }
   ],
   "source": [
    "with open('example.txt') as file:\n",
    "    for line in file:\n",
    "     print(line.strip());"
   ]
  },
  {
   "cell_type": "code",
   "execution_count": 13,
   "metadata": {},
   "outputs": [],
   "source": [
    "## Writing a file\n",
    "\n",
    "\n",
    "with open(\"example.txt\", 'w') as file:\n",
    "    file.write('''Some sample text\n",
    "\n",
    "\n",
    "List \n",
    "- List 1\n",
    "- List 2\n",
    "    ''')"
   ]
  },
  {
   "cell_type": "code",
   "execution_count": 19,
   "metadata": {},
   "outputs": [
    {
     "name": "stdout",
     "output_type": "stream",
     "text": [
      "{1, 2, 3, 4, 5}\n"
     ]
    }
   ],
   "source": [
    "class SetContextManager:\n",
    "    def __init__(self, s):\n",
    "        self.s = s\n",
    "\n",
    "    def __enter__(self):\n",
    "        return self.s\n",
    "\n",
    "    def __exit__(self, exc_type, exc_value, traceback):\n",
    "        pass\n",
    "\n",
    "i = {1, 2, 3, 4, 5}\n",
    "\n",
    "with SetContextManager(i) as item:\n",
    "    print(item)"
   ]
  },
  {
   "cell_type": "code",
   "execution_count": null,
   "metadata": {},
   "outputs": [],
   "source": []
  }
 ],
 "metadata": {
  "kernelspec": {
   "display_name": "Python 3",
   "language": "python",
   "name": "python3"
  },
  "language_info": {
   "codemirror_mode": {
    "name": "ipython",
    "version": 3
   },
   "file_extension": ".py",
   "mimetype": "text/x-python",
   "name": "python",
   "nbconvert_exporter": "python",
   "pygments_lexer": "ipython3",
   "version": "3.9.6"
  }
 },
 "nbformat": 4,
 "nbformat_minor": 2
}
