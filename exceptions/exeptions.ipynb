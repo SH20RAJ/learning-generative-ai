{
 "cells": [
  {
   "cell_type": "markdown",
   "metadata": {},
   "source": [
    "# Handling Exceptions\n",
    "\n",
    "## What are exceptions and types of exceptions\n",
    "\n",
    "Exceptions are events that occur during the execution of a program that disrupt the normal flow of instructions. They are used to handle errors and other exceptional events in a controlled manner.\n",
    "\n",
    "### Types of Exceptions\n",
    "\n",
    "1. **SyntaxError**: Raised when there is an error in the syntax of the code.\n",
    "2. **TypeError**: Raised when an operation or function is applied to an object of inappropriate type.\n",
    "3. **NameError**: Raised when a local or global name is not found.\n",
    "4. **IndexError**: Raised when a sequence subscript is out of range.\n",
    "5. **ValueError**: Raised when a function receives an argument of the right type but inappropriate value.\n",
    "6. **KeyError**: Raised when a dictionary key is not found.\n",
    "7. **AttributeError**: Raised when an attribute reference or assignment fails.\n",
    "8. **IOError**: Raised when an input/output operation fails.\n",
    "9. **ZeroDivisionError**: Raised when division or modulo by zero takes place.\n",
    "10. **ImportError**: Raised when an import statement fails to find the module definition or when a from ... import fails to find a name that is to be imported."
   ]
  },
  {
   "cell_type": "code",
   "execution_count": 6,
   "metadata": {},
   "outputs": [
    {
     "name": "stdout",
     "output_type": "stream",
     "text": [
      "Start of program\n",
      "Error2: name 'fhgvh1' is not defined\n",
      "Finally block\n",
      "End of program\n"
     ]
    }
   ],
   "source": [
    "\n",
    "print(\"Start of program\")\n",
    "\n",
    "try : \n",
    "    print(fhgvh1/0)\n",
    "except ZeroDivisionError as e:\n",
    "    print(\"Error1:\", e)\n",
    "except Exception as e:\n",
    "    print(\"Error2:\", e)\n",
    "finally :\n",
    "    print(\"Finally block\")\n",
    "\n",
    "print(\"End of program\")\n"
   ]
  },
  {
   "cell_type": "code",
   "execution_count": null,
   "metadata": {},
   "outputs": [],
   "source": []
  }
 ],
 "metadata": {
  "kernelspec": {
   "display_name": "Python 3",
   "language": "python",
   "name": "python3"
  },
  "language_info": {
   "codemirror_mode": {
    "name": "ipython",
    "version": 3
   },
   "file_extension": ".py",
   "mimetype": "text/x-python",
   "name": "python",
   "nbconvert_exporter": "python",
   "pygments_lexer": "ipython3",
   "version": "3.9.6"
  }
 },
 "nbformat": 4,
 "nbformat_minor": 2
}
